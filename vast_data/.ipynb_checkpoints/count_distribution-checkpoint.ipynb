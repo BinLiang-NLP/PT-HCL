{
 "cells": [
  {
   "cell_type": "code",
   "execution_count": 1,
   "metadata": {},
   "outputs": [
    {
     "name": "stdout",
     "output_type": "stream",
     "text": [
      "count_distribution.ipynb  vast_dev.csv\t vast_test-sentswap.csv\r\n",
      "few_vast_dev.raw\t  vast_dev.raw\t vast_train.csv\r\n",
      "few_vast_test.raw\t  vast_test.csv  vast_train.raw\r\n",
      "few_vast_train.raw\t  vast_test.raw\r\n"
     ]
    }
   ],
   "source": [
    "!ls"
   ]
  },
  {
   "cell_type": "code",
   "execution_count": null,
   "metadata": {},
   "outputs": [],
   "source": [
    "#few_train zero_train zero_dev zero_test\n",
    "pro_tag='1'\n",
    "con_tag='0'\n",
    "neu_tag='2'\n",
    "filename='few_vast_train.raw'\n",
    "f=open(filename,'r',encodind='utf-8-sig')\n",
    "lines=f.readlines():\n",
    "for i in range(0,len(lines),3):\n",
    "    target=lines[i+1]\n",
    "    label=lines[i+2]\n",
    "    \n"
   ]
  },
  {
   "cell_type": "code",
   "execution_count": null,
   "metadata": {},
   "outputs": [],
   "source": [
    "#few_dev few_test"
   ]
  }
 ],
 "metadata": {
  "kernelspec": {
   "display_name": "Python 3",
   "language": "python",
   "name": "python3"
  },
  "language_info": {
   "codemirror_mode": {
    "name": "ipython",
    "version": 3
   },
   "file_extension": ".py",
   "mimetype": "text/x-python",
   "name": "python",
   "nbconvert_exporter": "python",
   "pygments_lexer": "ipython3",
   "version": "3.8.3"
  }
 },
 "nbformat": 4,
 "nbformat_minor": 4
}
